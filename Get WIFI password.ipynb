{
 "cells": [
  {
   "cell_type": "markdown",
   "metadata": {},
   "source": [
    "# Get WIFI password with Python"
   ]
  },
  {
   "cell_type": "code",
   "execution_count": 8,
   "metadata": {},
   "outputs": [
    {
     "name": "stdout",
     "output_type": "stream",
     "text": [
      "The Social Network            | \n",
      "The Social Guest              | \n"
     ]
    }
   ],
   "source": [
    "import subprocess\n",
    "#sync commands to CMD and get results back\n",
    "results = subprocess.check_output(['netsh', 'wlan', 'show', 'profiles']).decode('utf-8').split('\\n')\n",
    "results = [i.split(':')[1][1:-1] for i in results if 'All User Profile' in i]\n",
    "for i in results:\n",
    "    results = subprocess.check_output(['netsh', 'wlan', 'show', 'profiles', i, 'key=clear']).decode('utf-8').split('\\n')\n",
    "    results = [b.split(':')[1][1:-1] for b in results if 'Key Content' in b]\n",
    "    try:\n",
    "        print(\"{:<30}| {:<}\".format(i, results[0]))\n",
    "    except IndexError:\n",
    "        print(\"{:<30}| {:<}\".format(i, \"\"))"
   ]
  },
  {
   "cell_type": "code",
   "execution_count": null,
   "metadata": {},
   "outputs": [],
   "source": []
  }
 ],
 "metadata": {
  "kernelspec": {
   "display_name": "Python 3",
   "language": "python",
   "name": "python3"
  },
  "language_info": {
   "codemirror_mode": {
    "name": "ipython",
    "version": 3
   },
   "file_extension": ".py",
   "mimetype": "text/x-python",
   "name": "python",
   "nbconvert_exporter": "python",
   "pygments_lexer": "ipython3",
   "version": "3.6.4"
  }
 },
 "nbformat": 4,
 "nbformat_minor": 2
}
